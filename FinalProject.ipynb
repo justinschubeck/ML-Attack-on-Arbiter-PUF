{
 "cells": [
  {
   "cell_type": "markdown",
   "id": "2a5f99f5",
   "metadata": {},
   "source": [
    "# Machine Learning Attack on Arbiter PUF\n",
    "## Justin Schubeck, Alex Liu, Yash Bhat\n",
    "### EEE5716 - Introduction to Hardware Security and Trust: Fall 2022\n",
    "---"
   ]
  },
  {
   "cell_type": "markdown",
   "id": "f6a2e778",
   "metadata": {},
   "source": [
    "Import necessary packages."
   ]
  },
  {
   "cell_type": "code",
   "execution_count": 1,
   "id": "a1480a59",
   "metadata": {},
   "outputs": [],
   "source": [
    "import pandas as pd\n",
    "import numpy as np\n",
    "import matplotlib.pyplot as plt\n",
    "from sklearn.model_selection import train_test_split\n",
    "from sklearn.model_selection import StratifiedKFold\n",
    "from sklearn.model_selection import GridSearchCV\n",
    "from sklearn.svm import SVC\n",
    "from sklearn.linear_model import LogisticRegression\n",
    "from sklearn.metrics import accuracy_score\n",
    "from sklearn.model_selection import cross_val_score\n",
    "from scipy import stats"
   ]
  },
  {
   "cell_type": "markdown",
   "id": "56931aea",
   "metadata": {},
   "source": [
    "Read in the data, and format to be [-1, 1] instead of [0, 1]."
   ]
  },
  {
   "cell_type": "code",
   "execution_count": 2,
   "id": "a689392c",
   "metadata": {},
   "outputs": [
    {
     "data": {
      "text/html": [
       "<div>\n",
       "<style scoped>\n",
       "    .dataframe tbody tr th:only-of-type {\n",
       "        vertical-align: middle;\n",
       "    }\n",
       "\n",
       "    .dataframe tbody tr th {\n",
       "        vertical-align: top;\n",
       "    }\n",
       "\n",
       "    .dataframe thead th {\n",
       "        text-align: right;\n",
       "    }\n",
       "</style>\n",
       "<table border=\"1\" class=\"dataframe\">\n",
       "  <thead>\n",
       "    <tr style=\"text-align: right;\">\n",
       "      <th></th>\n",
       "      <th>0</th>\n",
       "      <th>1</th>\n",
       "      <th>2</th>\n",
       "      <th>3</th>\n",
       "      <th>4</th>\n",
       "      <th>5</th>\n",
       "      <th>6</th>\n",
       "      <th>7</th>\n",
       "      <th>8</th>\n",
       "      <th>9</th>\n",
       "      <th>...</th>\n",
       "      <th>55</th>\n",
       "      <th>56</th>\n",
       "      <th>57</th>\n",
       "      <th>58</th>\n",
       "      <th>59</th>\n",
       "      <th>60</th>\n",
       "      <th>61</th>\n",
       "      <th>62</th>\n",
       "      <th>63</th>\n",
       "      <th>64</th>\n",
       "    </tr>\n",
       "  </thead>\n",
       "  <tbody>\n",
       "    <tr>\n",
       "      <th>0</th>\n",
       "      <td>-1</td>\n",
       "      <td>-1</td>\n",
       "      <td>1</td>\n",
       "      <td>1</td>\n",
       "      <td>1</td>\n",
       "      <td>-1</td>\n",
       "      <td>1</td>\n",
       "      <td>-1</td>\n",
       "      <td>-1</td>\n",
       "      <td>1</td>\n",
       "      <td>...</td>\n",
       "      <td>1</td>\n",
       "      <td>1</td>\n",
       "      <td>-1</td>\n",
       "      <td>-1</td>\n",
       "      <td>-1</td>\n",
       "      <td>1</td>\n",
       "      <td>-1</td>\n",
       "      <td>1</td>\n",
       "      <td>1</td>\n",
       "      <td>1</td>\n",
       "    </tr>\n",
       "    <tr>\n",
       "      <th>1</th>\n",
       "      <td>1</td>\n",
       "      <td>-1</td>\n",
       "      <td>1</td>\n",
       "      <td>-1</td>\n",
       "      <td>1</td>\n",
       "      <td>-1</td>\n",
       "      <td>-1</td>\n",
       "      <td>-1</td>\n",
       "      <td>1</td>\n",
       "      <td>-1</td>\n",
       "      <td>...</td>\n",
       "      <td>1</td>\n",
       "      <td>1</td>\n",
       "      <td>1</td>\n",
       "      <td>-1</td>\n",
       "      <td>-1</td>\n",
       "      <td>-1</td>\n",
       "      <td>-1</td>\n",
       "      <td>-1</td>\n",
       "      <td>1</td>\n",
       "      <td>-1</td>\n",
       "    </tr>\n",
       "    <tr>\n",
       "      <th>2</th>\n",
       "      <td>1</td>\n",
       "      <td>1</td>\n",
       "      <td>-1</td>\n",
       "      <td>1</td>\n",
       "      <td>-1</td>\n",
       "      <td>1</td>\n",
       "      <td>1</td>\n",
       "      <td>-1</td>\n",
       "      <td>1</td>\n",
       "      <td>-1</td>\n",
       "      <td>...</td>\n",
       "      <td>1</td>\n",
       "      <td>-1</td>\n",
       "      <td>1</td>\n",
       "      <td>1</td>\n",
       "      <td>1</td>\n",
       "      <td>-1</td>\n",
       "      <td>-1</td>\n",
       "      <td>1</td>\n",
       "      <td>-1</td>\n",
       "      <td>-1</td>\n",
       "    </tr>\n",
       "    <tr>\n",
       "      <th>3</th>\n",
       "      <td>-1</td>\n",
       "      <td>1</td>\n",
       "      <td>-1</td>\n",
       "      <td>-1</td>\n",
       "      <td>-1</td>\n",
       "      <td>-1</td>\n",
       "      <td>1</td>\n",
       "      <td>1</td>\n",
       "      <td>-1</td>\n",
       "      <td>1</td>\n",
       "      <td>...</td>\n",
       "      <td>1</td>\n",
       "      <td>1</td>\n",
       "      <td>1</td>\n",
       "      <td>1</td>\n",
       "      <td>1</td>\n",
       "      <td>-1</td>\n",
       "      <td>-1</td>\n",
       "      <td>1</td>\n",
       "      <td>1</td>\n",
       "      <td>-1</td>\n",
       "    </tr>\n",
       "    <tr>\n",
       "      <th>4</th>\n",
       "      <td>1</td>\n",
       "      <td>1</td>\n",
       "      <td>-1</td>\n",
       "      <td>-1</td>\n",
       "      <td>-1</td>\n",
       "      <td>1</td>\n",
       "      <td>1</td>\n",
       "      <td>1</td>\n",
       "      <td>-1</td>\n",
       "      <td>1</td>\n",
       "      <td>...</td>\n",
       "      <td>-1</td>\n",
       "      <td>1</td>\n",
       "      <td>-1</td>\n",
       "      <td>1</td>\n",
       "      <td>1</td>\n",
       "      <td>1</td>\n",
       "      <td>1</td>\n",
       "      <td>-1</td>\n",
       "      <td>-1</td>\n",
       "      <td>1</td>\n",
       "    </tr>\n",
       "    <tr>\n",
       "      <th>...</th>\n",
       "      <td>...</td>\n",
       "      <td>...</td>\n",
       "      <td>...</td>\n",
       "      <td>...</td>\n",
       "      <td>...</td>\n",
       "      <td>...</td>\n",
       "      <td>...</td>\n",
       "      <td>...</td>\n",
       "      <td>...</td>\n",
       "      <td>...</td>\n",
       "      <td>...</td>\n",
       "      <td>...</td>\n",
       "      <td>...</td>\n",
       "      <td>...</td>\n",
       "      <td>...</td>\n",
       "      <td>...</td>\n",
       "      <td>...</td>\n",
       "      <td>...</td>\n",
       "      <td>...</td>\n",
       "      <td>...</td>\n",
       "      <td>...</td>\n",
       "    </tr>\n",
       "    <tr>\n",
       "      <th>11995</th>\n",
       "      <td>-1</td>\n",
       "      <td>1</td>\n",
       "      <td>-1</td>\n",
       "      <td>1</td>\n",
       "      <td>1</td>\n",
       "      <td>1</td>\n",
       "      <td>-1</td>\n",
       "      <td>-1</td>\n",
       "      <td>1</td>\n",
       "      <td>-1</td>\n",
       "      <td>...</td>\n",
       "      <td>1</td>\n",
       "      <td>-1</td>\n",
       "      <td>-1</td>\n",
       "      <td>-1</td>\n",
       "      <td>-1</td>\n",
       "      <td>1</td>\n",
       "      <td>1</td>\n",
       "      <td>-1</td>\n",
       "      <td>-1</td>\n",
       "      <td>-1</td>\n",
       "    </tr>\n",
       "    <tr>\n",
       "      <th>11996</th>\n",
       "      <td>-1</td>\n",
       "      <td>1</td>\n",
       "      <td>-1</td>\n",
       "      <td>-1</td>\n",
       "      <td>1</td>\n",
       "      <td>1</td>\n",
       "      <td>-1</td>\n",
       "      <td>1</td>\n",
       "      <td>-1</td>\n",
       "      <td>1</td>\n",
       "      <td>...</td>\n",
       "      <td>1</td>\n",
       "      <td>1</td>\n",
       "      <td>1</td>\n",
       "      <td>-1</td>\n",
       "      <td>-1</td>\n",
       "      <td>1</td>\n",
       "      <td>-1</td>\n",
       "      <td>1</td>\n",
       "      <td>-1</td>\n",
       "      <td>1</td>\n",
       "    </tr>\n",
       "    <tr>\n",
       "      <th>11997</th>\n",
       "      <td>1</td>\n",
       "      <td>1</td>\n",
       "      <td>1</td>\n",
       "      <td>-1</td>\n",
       "      <td>-1</td>\n",
       "      <td>-1</td>\n",
       "      <td>1</td>\n",
       "      <td>1</td>\n",
       "      <td>-1</td>\n",
       "      <td>-1</td>\n",
       "      <td>...</td>\n",
       "      <td>1</td>\n",
       "      <td>1</td>\n",
       "      <td>-1</td>\n",
       "      <td>1</td>\n",
       "      <td>-1</td>\n",
       "      <td>1</td>\n",
       "      <td>1</td>\n",
       "      <td>-1</td>\n",
       "      <td>-1</td>\n",
       "      <td>-1</td>\n",
       "    </tr>\n",
       "    <tr>\n",
       "      <th>11998</th>\n",
       "      <td>-1</td>\n",
       "      <td>1</td>\n",
       "      <td>-1</td>\n",
       "      <td>1</td>\n",
       "      <td>1</td>\n",
       "      <td>1</td>\n",
       "      <td>1</td>\n",
       "      <td>1</td>\n",
       "      <td>1</td>\n",
       "      <td>1</td>\n",
       "      <td>...</td>\n",
       "      <td>-1</td>\n",
       "      <td>-1</td>\n",
       "      <td>-1</td>\n",
       "      <td>-1</td>\n",
       "      <td>1</td>\n",
       "      <td>-1</td>\n",
       "      <td>1</td>\n",
       "      <td>-1</td>\n",
       "      <td>-1</td>\n",
       "      <td>1</td>\n",
       "    </tr>\n",
       "    <tr>\n",
       "      <th>11999</th>\n",
       "      <td>-1</td>\n",
       "      <td>-1</td>\n",
       "      <td>1</td>\n",
       "      <td>1</td>\n",
       "      <td>1</td>\n",
       "      <td>-1</td>\n",
       "      <td>-1</td>\n",
       "      <td>1</td>\n",
       "      <td>1</td>\n",
       "      <td>1</td>\n",
       "      <td>...</td>\n",
       "      <td>1</td>\n",
       "      <td>1</td>\n",
       "      <td>1</td>\n",
       "      <td>-1</td>\n",
       "      <td>-1</td>\n",
       "      <td>1</td>\n",
       "      <td>1</td>\n",
       "      <td>1</td>\n",
       "      <td>-1</td>\n",
       "      <td>-1</td>\n",
       "    </tr>\n",
       "  </tbody>\n",
       "</table>\n",
       "<p>12000 rows × 65 columns</p>\n",
       "</div>"
      ],
      "text/plain": [
       "       0   1   2   3   4   5   6   7   8   9   ...  55  56  57  58  59  60  \\\n",
       "0      -1  -1   1   1   1  -1   1  -1  -1   1  ...   1   1  -1  -1  -1   1   \n",
       "1       1  -1   1  -1   1  -1  -1  -1   1  -1  ...   1   1   1  -1  -1  -1   \n",
       "2       1   1  -1   1  -1   1   1  -1   1  -1  ...   1  -1   1   1   1  -1   \n",
       "3      -1   1  -1  -1  -1  -1   1   1  -1   1  ...   1   1   1   1   1  -1   \n",
       "4       1   1  -1  -1  -1   1   1   1  -1   1  ...  -1   1  -1   1   1   1   \n",
       "...    ..  ..  ..  ..  ..  ..  ..  ..  ..  ..  ...  ..  ..  ..  ..  ..  ..   \n",
       "11995  -1   1  -1   1   1   1  -1  -1   1  -1  ...   1  -1  -1  -1  -1   1   \n",
       "11996  -1   1  -1  -1   1   1  -1   1  -1   1  ...   1   1   1  -1  -1   1   \n",
       "11997   1   1   1  -1  -1  -1   1   1  -1  -1  ...   1   1  -1   1  -1   1   \n",
       "11998  -1   1  -1   1   1   1   1   1   1   1  ...  -1  -1  -1  -1   1  -1   \n",
       "11999  -1  -1   1   1   1  -1  -1   1   1   1  ...   1   1   1  -1  -1   1   \n",
       "\n",
       "       61  62  63  64  \n",
       "0      -1   1   1   1  \n",
       "1      -1  -1   1  -1  \n",
       "2      -1   1  -1  -1  \n",
       "3      -1   1   1  -1  \n",
       "4       1  -1  -1   1  \n",
       "...    ..  ..  ..  ..  \n",
       "11995   1  -1  -1  -1  \n",
       "11996  -1   1  -1   1  \n",
       "11997   1  -1  -1  -1  \n",
       "11998   1  -1  -1   1  \n",
       "11999   1   1  -1  -1  \n",
       "\n",
       "[12000 rows x 65 columns]"
      ]
     },
     "execution_count": 2,
     "metadata": {},
     "output_type": "execute_result"
    }
   ],
   "source": [
    "df = pd.read_excel('CRPSets.xls',header=None)\n",
    "df = df.replace(0,-1)\n",
    "df"
   ]
  },
  {
   "cell_type": "markdown",
   "id": "733148ba",
   "metadata": {},
   "source": [
    "Separate the challenges from responses, and extract features."
   ]
  },
  {
   "cell_type": "code",
   "execution_count": 3,
   "id": "8d9a5752",
   "metadata": {},
   "outputs": [],
   "source": [
    "challenges = df.to_numpy()[:,:64]\n",
    "responses = df.to_numpy()[:,64]\n",
    "features = np.cumprod(np.fliplr(challenges), axis=1, dtype=np.int8)"
   ]
  },
  {
   "cell_type": "markdown",
   "id": "011a14f5",
   "metadata": {},
   "source": [
    "## Support Vector Machine"
   ]
  },
  {
   "cell_type": "code",
   "execution_count": 4,
   "id": "396d7c68",
   "metadata": {},
   "outputs": [],
   "source": [
    "# Initialize lists for data collection.\n",
    "best_estimators = []\n",
    "best_params = []\n",
    "train_acc = []\n",
    "test_acc = []\n",
    "lower_conf = []\n",
    "upper_conf = []\n",
    "\n",
    "# Train-Test splits of CRPs.\n",
    "ratios = np.concatenate((np.array(list(range(25,100,25)))/12000,\n",
    "                         np.array(list(range(100,1000,100)))/12000,\n",
    "                         np.array(list(range(1000,12000,1000)))/12000))\n",
    "\n",
    "# Iterate training models over all splits.\n",
    "for ratio in ratios:\n",
    "    \n",
    "    # Split the data into training and test splits.\n",
    "    X_train, X_test, t_train, t_test = train_test_split(features, \n",
    "                                                        responses,\n",
    "                                                        train_size=ratio,\n",
    "                                                        shuffle=True,\n",
    "                                                        random_state=7,\n",
    "                                                        stratify=responses)\n",
    "    \n",
    "    # Define a set of hyperparameters to tune.\n",
    "    param_grid = {'C':np.logspace(-3,3,7),\n",
    "                  'kernel':['linear','rbf'],\n",
    "                  'gamma':list(np.logspace(-3,3,7))+['scale','auto']}\n",
    "\n",
    "    # Define cross validation strategy.\n",
    "    cv = StratifiedKFold(n_splits=5, \n",
    "                         shuffle=True,\n",
    "                         random_state=7)\n",
    "\n",
    "    # Create hyperparameter testing structure. \n",
    "    grid_search = GridSearchCV(SVC(), \n",
    "                               param_grid=param_grid,\n",
    "                               cv=cv,\n",
    "                               scoring='accuracy',\n",
    "                               refit=True,\n",
    "                               n_jobs=-1)\n",
    "\n",
    "    # Tune the SVM model.\n",
    "    grid_search.fit(X_train, t_train)\n",
    "    best_estimators += [grid_search.best_estimator_]\n",
    "    best_params += [grid_search.best_params_]\n",
    "\n",
    "    # Predict training responses.\n",
    "    y_train = grid_search.best_estimator_.predict(X_train)\n",
    "    train_acc += [accuracy_score(t_train, y_train)]\n",
    "\n",
    "    # Predict test responses.\n",
    "    y_test = grid_search.best_estimator_.predict(X_test)\n",
    "    test_acc += [accuracy_score(t_test, y_test)]\n",
    "    \n",
    "    # Calculate 10 accuracy scores using cross validation on best model.\n",
    "    scores = cross_val_score(grid_search.best_estimator_,\n",
    "                             X_train,\n",
    "                             t_train,\n",
    "                             scoring='accuracy',\n",
    "                             cv=10)\n",
    "    \n",
    "    # Generate a 95% confidence interval on the test accuracy prediction.\n",
    "    interval = stats.t.interval(0.95, \n",
    "               len(scores) - 1,\n",
    "               loc=scores.mean(),\n",
    "               scale=scores.std(ddof=1)/np.sqrt(len(scores)))\n",
    "    lower_conf += [interval[0]]\n",
    "    upper_conf += [interval[1]]"
   ]
  },
  {
   "cell_type": "markdown",
   "id": "d490a721",
   "metadata": {},
   "source": [
    "Logging values for each model."
   ]
  },
  {
   "cell_type": "code",
   "execution_count": 19,
   "id": "a9d94f63",
   "metadata": {},
   "outputs": [
    {
     "data": {
      "text/plain": [
       "array([   25.,    50.,    75.,   100.,   200.,   300.,   400.,   500.,\n",
       "         600.,   700.,   800.,   900.,  1000.,  2000.,  3000.,  4000.,\n",
       "        5000.,  6000.,  7000.,  8000.,  9000., 10000., 11000.])"
      ]
     },
     "execution_count": 19,
     "metadata": {},
     "output_type": "execute_result"
    }
   ],
   "source": [
    "ratios*12000"
   ]
  },
  {
   "cell_type": "code",
   "execution_count": 5,
   "id": "a7424966",
   "metadata": {},
   "outputs": [
    {
     "data": {
      "text/plain": [
       "[{'C': 0.1, 'gamma': 0.001, 'kernel': 'linear'},\n",
       " {'C': 1.0, 'gamma': 0.01, 'kernel': 'rbf'},\n",
       " {'C': 1.0, 'gamma': 0.01, 'kernel': 'rbf'},\n",
       " {'C': 10.0, 'gamma': 0.001, 'kernel': 'rbf'},\n",
       " {'C': 10.0, 'gamma': 0.01, 'kernel': 'rbf'},\n",
       " {'C': 10.0, 'gamma': 0.01, 'kernel': 'rbf'},\n",
       " {'C': 0.1, 'gamma': 0.001, 'kernel': 'linear'},\n",
       " {'C': 1000.0, 'gamma': 0.001, 'kernel': 'rbf'},\n",
       " {'C': 0.1, 'gamma': 0.001, 'kernel': 'linear'},\n",
       " {'C': 10.0, 'gamma': 0.001, 'kernel': 'linear'},\n",
       " {'C': 1000.0, 'gamma': 0.001, 'kernel': 'rbf'},\n",
       " {'C': 10.0, 'gamma': 0.001, 'kernel': 'linear'},\n",
       " {'C': 0.1, 'gamma': 0.001, 'kernel': 'linear'},\n",
       " {'C': 10.0, 'gamma': 0.001, 'kernel': 'linear'},\n",
       " {'C': 100.0, 'gamma': 0.001, 'kernel': 'linear'},\n",
       " {'C': 100.0, 'gamma': 0.001, 'kernel': 'linear'},\n",
       " {'C': 100.0, 'gamma': 0.001, 'kernel': 'linear'},\n",
       " {'C': 100.0, 'gamma': 0.001, 'kernel': 'linear'},\n",
       " {'C': 1000.0, 'gamma': 0.001, 'kernel': 'linear'},\n",
       " {'C': 1000.0, 'gamma': 0.001, 'kernel': 'linear'},\n",
       " {'C': 100.0, 'gamma': 0.001, 'kernel': 'linear'},\n",
       " {'C': 100.0, 'gamma': 0.001, 'kernel': 'linear'},\n",
       " {'C': 1000.0, 'gamma': 0.001, 'kernel': 'linear'}]"
      ]
     },
     "execution_count": 5,
     "metadata": {},
     "output_type": "execute_result"
    }
   ],
   "source": [
    "best_params"
   ]
  },
  {
   "cell_type": "code",
   "execution_count": 6,
   "id": "35a552a0",
   "metadata": {},
   "outputs": [
    {
     "data": {
      "text/plain": [
       "[SVC(C=0.1, gamma=0.001, kernel='linear'),\n",
       " SVC(gamma=0.01),\n",
       " SVC(gamma=0.01),\n",
       " SVC(C=10.0, gamma=0.001),\n",
       " SVC(C=10.0, gamma=0.01),\n",
       " SVC(C=10.0, gamma=0.01),\n",
       " SVC(C=0.1, gamma=0.001, kernel='linear'),\n",
       " SVC(C=1000.0, gamma=0.001),\n",
       " SVC(C=0.1, gamma=0.001, kernel='linear'),\n",
       " SVC(C=10.0, gamma=0.001, kernel='linear'),\n",
       " SVC(C=1000.0, gamma=0.001),\n",
       " SVC(C=10.0, gamma=0.001, kernel='linear'),\n",
       " SVC(C=0.1, gamma=0.001, kernel='linear'),\n",
       " SVC(C=10.0, gamma=0.001, kernel='linear'),\n",
       " SVC(C=100.0, gamma=0.001, kernel='linear'),\n",
       " SVC(C=100.0, gamma=0.001, kernel='linear'),\n",
       " SVC(C=100.0, gamma=0.001, kernel='linear'),\n",
       " SVC(C=100.0, gamma=0.001, kernel='linear'),\n",
       " SVC(C=1000.0, gamma=0.001, kernel='linear'),\n",
       " SVC(C=1000.0, gamma=0.001, kernel='linear'),\n",
       " SVC(C=100.0, gamma=0.001, kernel='linear'),\n",
       " SVC(C=100.0, gamma=0.001, kernel='linear'),\n",
       " SVC(C=1000.0, gamma=0.001, kernel='linear')]"
      ]
     },
     "execution_count": 6,
     "metadata": {},
     "output_type": "execute_result"
    }
   ],
   "source": [
    "best_estimators"
   ]
  },
  {
   "cell_type": "code",
   "execution_count": 7,
   "id": "71528052",
   "metadata": {},
   "outputs": [
    {
     "data": {
      "text/plain": [
       "[1.0,\n",
       " 1.0,\n",
       " 1.0,\n",
       " 0.98,\n",
       " 1.0,\n",
       " 1.0,\n",
       " 0.98,\n",
       " 1.0,\n",
       " 0.9816666666666667,\n",
       " 1.0,\n",
       " 1.0,\n",
       " 1.0,\n",
       " 0.974,\n",
       " 0.9985,\n",
       " 1.0,\n",
       " 1.0,\n",
       " 1.0,\n",
       " 1.0,\n",
       " 1.0,\n",
       " 1.0,\n",
       " 0.9995555555555555,\n",
       " 0.9992,\n",
       " 1.0]"
      ]
     },
     "execution_count": 7,
     "metadata": {},
     "output_type": "execute_result"
    }
   ],
   "source": [
    "train_acc"
   ]
  },
  {
   "cell_type": "code",
   "execution_count": 8,
   "id": "09422bd4",
   "metadata": {},
   "outputs": [
    {
     "data": {
      "text/plain": [
       "[0.6982881002087683,\n",
       " 0.6758995815899581,\n",
       " 0.7477568134171908,\n",
       " 0.8163865546218487,\n",
       " 0.8680508474576272,\n",
       " 0.8804273504273504,\n",
       " 0.9043103448275862,\n",
       " 0.935304347826087,\n",
       " 0.9363157894736842,\n",
       " 0.9567256637168141,\n",
       " 0.9558035714285714,\n",
       " 0.9548648648648649,\n",
       " 0.9532727272727273,\n",
       " 0.988,\n",
       " 0.9885555555555555,\n",
       " 0.991875,\n",
       " 0.9941428571428571,\n",
       " 0.9945,\n",
       " 0.9938,\n",
       " 0.995,\n",
       " 0.9946666666666667,\n",
       " 0.9965,\n",
       " 0.998]"
      ]
     },
     "execution_count": 8,
     "metadata": {},
     "output_type": "execute_result"
    }
   ],
   "source": [
    "test_acc"
   ]
  },
  {
   "cell_type": "code",
   "execution_count": 9,
   "id": "769e1fa6",
   "metadata": {},
   "outputs": [
    {
     "data": {
      "text/plain": [
       "[0.5454152743753193,\n",
       " 0.559351617987147,\n",
       " 0.6538312283302322,\n",
       " 0.6374809888837991,\n",
       " 0.8817859431399552,\n",
       " 0.8554420710059591,\n",
       " 0.8886818522171743,\n",
       " 0.9094108474732326,\n",
       " 0.9186621982690928,\n",
       " 0.9411651366401025,\n",
       " 0.9414965165242757,\n",
       " 0.9482579420118066,\n",
       " 0.945790205367151,\n",
       " 0.9776570108525163,\n",
       " 0.9850089307290959,\n",
       " 0.9923340222168601,\n",
       " 0.9933265242603575,\n",
       " 0.9940599631074988,\n",
       " 0.994015875752269,\n",
       " 0.9952185123610476,\n",
       " 0.9963813497567361,\n",
       " 0.9956122023325912,\n",
       " 0.9957267769953407]"
      ]
     },
     "execution_count": 9,
     "metadata": {},
     "output_type": "execute_result"
    }
   ],
   "source": [
    "lower_conf"
   ]
  },
  {
   "cell_type": "code",
   "execution_count": 10,
   "id": "cc03f9a2",
   "metadata": {},
   "outputs": [
    {
     "data": {
      "text/plain": [
       "[0.9545847256246807,\n",
       " 0.8006483820128528,\n",
       " 0.8211687716697679,\n",
       " 0.8825190111162009,\n",
       " 0.9382140568600447,\n",
       " 0.9378912623273745,\n",
       " 0.9513181477828255,\n",
       " 0.9425891525267672,\n",
       " 0.9513378017309071,\n",
       " 0.9731205776456117,\n",
       " 0.9710034834757244,\n",
       " 0.9695198357659712,\n",
       " 0.9682097946328487,\n",
       " 0.9873429891474835,\n",
       " 0.9936577359375707,\n",
       " 0.9976659777831397,\n",
       " 0.9982734757396425,\n",
       " 0.9982733702258345,\n",
       " 0.9985555528191594,\n",
       " 0.9982814876389526,\n",
       " 0.9985075391321526,\n",
       " 0.9989877976674085,\n",
       " 0.9984550411864778]"
      ]
     },
     "execution_count": 10,
     "metadata": {},
     "output_type": "execute_result"
    }
   ],
   "source": [
    "upper_conf"
   ]
  },
  {
   "cell_type": "markdown",
   "id": "6e2672a9",
   "metadata": {},
   "source": [
    "Visual display of SVM results."
   ]
  },
  {
   "cell_type": "code",
   "execution_count": 15,
   "id": "830c2856",
   "metadata": {},
   "outputs": [
    {
     "data": {
      "image/png": "[encoded data removed]",
      "text/plain": [
       "<Figure size 720x432 with 1 Axes>"
      ]
     },
     "metadata": {
      "needs_background": "light"
     },
     "output_type": "display_data"
    }
   ],
   "source": [
    "plt.figure(figsize=(10,6));\n",
    "\n",
    "# Plot training accuracies.\n",
    "plt.plot(ratios*12000, train_acc, color='red');\n",
    "plt.scatter(ratios*12000, train_acc, color='red', label='Training');\n",
    "\n",
    "# Plot test accuracies.\n",
    "plt.plot(ratios*12000, test_acc, color='blue');\n",
    "plt.scatter(ratios*12000, test_acc, color='blue', label='Test');\n",
    "\n",
    "plt.title('Training Set Size vs. Accuracy', size=18);\n",
    "plt.xlabel('Number of CRPs in Training', size=15);\n",
    "plt.ylabel('Accuracy', size=15);\n",
    "plt.legend(prop={'size': 15});"
   ]
  },
  {
   "cell_type": "markdown",
   "id": "75862e3d",
   "metadata": {},
   "source": [
    "## Logistic Regression"
   ]
  },
  {
   "cell_type": "code",
   "execution_count": 27,
   "id": "aaa8a421",
   "metadata": {},
   "outputs": [],
   "source": [
    "# Initialize lists for data collection.\n",
    "best_estimators = []\n",
    "best_params = []\n",
    "train_acc = []\n",
    "test_acc = []\n",
    "lower_conf = []\n",
    "upper_conf = []\n",
    "\n",
    "# Train-Test splits of CRPs.\n",
    "ratios = np.concatenate((np.array(list(range(25,100,25)))/12000,\n",
    "                         np.array(list(range(100,1000,100)))/12000,\n",
    "                         np.array(list(range(1000,12000,1000)))/12000))\n",
    "\n",
    "# Iterate training models over all splits.\n",
    "for ratio in ratios:\n",
    "    \n",
    "    # Split the data into training and test splits.\n",
    "    X_train, X_test, t_train, t_test = train_test_split(features, \n",
    "                                                        responses,\n",
    "                                                        train_size=ratio,\n",
    "                                                        shuffle=True,\n",
    "                                                        random_state=7,\n",
    "                                                        stratify=responses)\n",
    "    \n",
    "    # Define a set of hyperparameters to tune.\n",
    "    param_grid = {'penalty':['l2','none'],\n",
    "                  'C':np.logspace(-3,3,7),\n",
    "                  'solver':['newton-cg', 'lbfgs', 'sag', 'saga'],\n",
    "                  'max_iter':[3000]}\n",
    "\n",
    "    # Define cross validation strategy.\n",
    "    cv = StratifiedKFold(n_splits=5, \n",
    "                         shuffle=True,\n",
    "                         random_state=7)\n",
    "\n",
    "    # Create hyperparameter testing structure. \n",
    "    import warnings\n",
    "    warnings.filterwarnings(\"ignore\", message=\"Setting penalty='none' will ignore the C and l1_ratio parameters\")\n",
    "    grid_search = GridSearchCV(LogisticRegression(), \n",
    "                               param_grid=param_grid,\n",
    "                               cv=cv,\n",
    "                               scoring='accuracy',\n",
    "                               refit=True,\n",
    "                               n_jobs=-1)\n",
    "\n",
    "    # Tune the LR model.\n",
    "    grid_search.fit(X_train, t_train)\n",
    "    best_estimators += [grid_search.best_estimator_]\n",
    "    best_params += [grid_search.best_params_]\n",
    "\n",
    "    # Predict training responses.\n",
    "    y_train = grid_search.best_estimator_.predict(X_train)\n",
    "    train_acc += [accuracy_score(t_train, y_train)]\n",
    "\n",
    "    # Predict test responses.\n",
    "    y_test = grid_search.best_estimator_.predict(X_test)\n",
    "    test_acc += [accuracy_score(t_test, y_test)]\n",
    "    \n",
    "    # Calculate 10 accuracy scores using cross validation on best model.\n",
    "    scores = cross_val_score(grid_search.best_estimator_,\n",
    "                             X_train,\n",
    "                             t_train,\n",
    "                             scoring='accuracy',\n",
    "                             cv=10)\n",
    "    \n",
    "    # Generate a 95% confidence interval on the test accuracy prediction.\n",
    "    interval = stats.t.interval(0.95, \n",
    "               len(scores) - 1,\n",
    "               loc=scores.mean(),\n",
    "               scale=scores.std(ddof=1)/np.sqrt(len(scores)))\n",
    "    lower_conf += [interval[0]]\n",
    "    upper_conf += [interval[1]]"
   ]
  },
  {
   "cell_type": "markdown",
   "id": "f95fff4a",
   "metadata": {},
   "source": [
    "Logging values for each model."
   ]
  },
  {
   "cell_type": "code",
   "execution_count": 28,
   "id": "6cf1cada",
   "metadata": {},
   "outputs": [
    {
     "data": {
      "text/plain": [
       "array([   25.,    50.,    75.,   100.,   200.,   300.,   400.,   500.,\n",
       "         600.,   700.,   800.,   900.,  1000.,  2000.,  3000.,  4000.,\n",
       "        5000.,  6000.,  7000.,  8000.,  9000., 10000., 11000.])"
      ]
     },
     "execution_count": 28,
     "metadata": {},
     "output_type": "execute_result"
    }
   ],
   "source": [
    "ratios*12000"
   ]
  },
  {
   "cell_type": "code",
   "execution_count": 29,
   "id": "1e888455",
   "metadata": {},
   "outputs": [
    {
     "data": {
      "text/plain": [
       "[{'C': 0.001, 'max_iter': 3000, 'penalty': 'none', 'solver': 'newton-cg'},\n",
       " {'C': 0.001, 'max_iter': 3000, 'penalty': 'none', 'solver': 'newton-cg'},\n",
       " {'C': 1.0, 'max_iter': 3000, 'penalty': 'l2', 'solver': 'newton-cg'},\n",
       " {'C': 1.0, 'max_iter': 3000, 'penalty': 'none', 'solver': 'sag'},\n",
       " {'C': 0.001, 'max_iter': 3000, 'penalty': 'none', 'solver': 'newton-cg'},\n",
       " {'C': 1.0, 'max_iter': 3000, 'penalty': 'l2', 'solver': 'newton-cg'},\n",
       " {'C': 0.001, 'max_iter': 3000, 'penalty': 'none', 'solver': 'saga'},\n",
       " {'C': 0.001, 'max_iter': 3000, 'penalty': 'none', 'solver': 'newton-cg'},\n",
       " {'C': 10.0, 'max_iter': 3000, 'penalty': 'l2', 'solver': 'newton-cg'},\n",
       " {'C': 0.001, 'max_iter': 3000, 'penalty': 'none', 'solver': 'saga'},\n",
       " {'C': 0.001, 'max_iter': 3000, 'penalty': 'none', 'solver': 'lbfgs'},\n",
       " {'C': 10.0, 'max_iter': 3000, 'penalty': 'l2', 'solver': 'newton-cg'},\n",
       " {'C': 0.001, 'max_iter': 3000, 'penalty': 'none', 'solver': 'lbfgs'},\n",
       " {'C': 100.0, 'max_iter': 3000, 'penalty': 'l2', 'solver': 'newton-cg'},\n",
       " {'C': 100.0, 'max_iter': 3000, 'penalty': 'l2', 'solver': 'newton-cg'},\n",
       " {'C': 0.001, 'max_iter': 3000, 'penalty': 'none', 'solver': 'sag'},\n",
       " {'C': 0.001, 'max_iter': 3000, 'penalty': 'none', 'solver': 'newton-cg'},\n",
       " {'C': 0.001, 'max_iter': 3000, 'penalty': 'none', 'solver': 'newton-cg'},\n",
       " {'C': 1000.0, 'max_iter': 3000, 'penalty': 'l2', 'solver': 'newton-cg'},\n",
       " {'C': 1000.0, 'max_iter': 3000, 'penalty': 'l2', 'solver': 'newton-cg'},\n",
       " {'C': 0.001, 'max_iter': 3000, 'penalty': 'none', 'solver': 'saga'},\n",
       " {'C': 0.001, 'max_iter': 3000, 'penalty': 'none', 'solver': 'sag'},\n",
       " {'C': 0.001, 'max_iter': 3000, 'penalty': 'none', 'solver': 'lbfgs'}]"
      ]
     },
     "execution_count": 29,
     "metadata": {},
     "output_type": "execute_result"
    }
   ],
   "source": [
    "best_params"
   ]
  },
  {
   "cell_type": "code",
   "execution_count": 30,
   "id": "0594b12f",
   "metadata": {},
   "outputs": [
    {
     "data": {
      "text/plain": [
       "[LogisticRegression(C=0.001, max_iter=3000, penalty='none', solver='newton-cg'),\n",
       " LogisticRegression(C=0.001, max_iter=3000, penalty='none', solver='newton-cg'),\n",
       " LogisticRegression(max_iter=3000, solver='newton-cg'),\n",
       " LogisticRegression(max_iter=3000, penalty='none', solver='sag'),\n",
       " LogisticRegression(C=0.001, max_iter=3000, penalty='none', solver='newton-cg'),\n",
       " LogisticRegression(max_iter=3000, solver='newton-cg'),\n",
       " LogisticRegression(C=0.001, max_iter=3000, penalty='none', solver='saga'),\n",
       " LogisticRegression(C=0.001, max_iter=3000, penalty='none', solver='newton-cg'),\n",
       " LogisticRegression(C=10.0, max_iter=3000, solver='newton-cg'),\n",
       " LogisticRegression(C=0.001, max_iter=3000, penalty='none', solver='saga'),\n",
       " LogisticRegression(C=0.001, max_iter=3000, penalty='none'),\n",
       " LogisticRegression(C=10.0, max_iter=3000, solver='newton-cg'),\n",
       " LogisticRegression(C=0.001, max_iter=3000, penalty='none'),\n",
       " LogisticRegression(C=100.0, max_iter=3000, solver='newton-cg'),\n",
       " LogisticRegression(C=100.0, max_iter=3000, solver='newton-cg'),\n",
       " LogisticRegression(C=0.001, max_iter=3000, penalty='none', solver='sag'),\n",
       " LogisticRegression(C=0.001, max_iter=3000, penalty='none', solver='newton-cg'),\n",
       " LogisticRegression(C=0.001, max_iter=3000, penalty='none', solver='newton-cg'),\n",
       " LogisticRegression(C=1000.0, max_iter=3000, solver='newton-cg'),\n",
       " LogisticRegression(C=1000.0, max_iter=3000, solver='newton-cg'),\n",
       " LogisticRegression(C=0.001, max_iter=3000, penalty='none', solver='saga'),\n",
       " LogisticRegression(C=0.001, max_iter=3000, penalty='none', solver='sag'),\n",
       " LogisticRegression(C=0.001, max_iter=3000, penalty='none')]"
      ]
     },
     "execution_count": 30,
     "metadata": {},
     "output_type": "execute_result"
    }
   ],
   "source": [
    "best_estimators"
   ]
  },
  {
   "cell_type": "code",
   "execution_count": 31,
   "id": "17e0000f",
   "metadata": {},
   "outputs": [
    {
     "data": {
      "text/plain": [
       "[1.0,\n",
       " 1.0,\n",
       " 1.0,\n",
       " 1.0,\n",
       " 1.0,\n",
       " 1.0,\n",
       " 1.0,\n",
       " 1.0,\n",
       " 1.0,\n",
       " 1.0,\n",
       " 1.0,\n",
       " 1.0,\n",
       " 1.0,\n",
       " 1.0,\n",
       " 1.0,\n",
       " 1.0,\n",
       " 1.0,\n",
       " 1.0,\n",
       " 1.0,\n",
       " 1.0,\n",
       " 1.0,\n",
       " 1.0,\n",
       " 1.0]"
      ]
     },
     "execution_count": 31,
     "metadata": {},
     "output_type": "execute_result"
    }
   ],
   "source": [
    "train_acc"
   ]
  },
  {
   "cell_type": "code",
   "execution_count": 32,
   "id": "fbfb3396",
   "metadata": {},
   "outputs": [
    {
     "data": {
      "text/plain": [
       "[0.7064718162839249,\n",
       " 0.717489539748954,\n",
       " 0.7961425576519916,\n",
       " 0.8280672268907563,\n",
       " 0.8630508474576272,\n",
       " 0.8996581196581197,\n",
       " 0.9168103448275862,\n",
       " 0.9224347826086956,\n",
       " 0.9471929824561404,\n",
       " 0.9567256637168141,\n",
       " 0.963125,\n",
       " 0.9635135135135136,\n",
       " 0.9737272727272728,\n",
       " 0.9911,\n",
       " 0.9895555555555555,\n",
       " 0.994,\n",
       " 0.9941428571428571,\n",
       " 0.9933333333333333,\n",
       " 0.995,\n",
       " 0.9955,\n",
       " 0.9943333333333333,\n",
       " 0.9975,\n",
       " 0.997]"
      ]
     },
     "execution_count": 32,
     "metadata": {},
     "output_type": "execute_result"
    }
   ],
   "source": [
    "test_acc"
   ]
  },
  {
   "cell_type": "code",
   "execution_count": 33,
   "id": "f5dc10e0",
   "metadata": {},
   "outputs": [
    {
     "data": {
      "text/plain": [
       "[0.5454152743753193,\n",
       " 0.6708899571190191,\n",
       " 0.657147484132205,\n",
       " 0.690267921872878,\n",
       " 0.8736818522171743,\n",
       " 0.8664505393290493,\n",
       " 0.9032312082271344,\n",
       " 0.9147645803759583,\n",
       " 0.9195801648139663,\n",
       " 0.9467498806607417,\n",
       " 0.9586741295245832,\n",
       " 0.955425917351829,\n",
       " 0.9459351617987146,\n",
       " 0.9781547311656396,\n",
       " 0.9854874466840907,\n",
       " 0.9923340222168601,\n",
       " 0.993488653314775,\n",
       " 0.9945738777623125,\n",
       " 0.9946734824651404,\n",
       " 0.9968689214186295,\n",
       " 0.9961057079276706,\n",
       " 0.9947552544262747,\n",
       " 0.9957538621173503]"
      ]
     },
     "execution_count": 33,
     "metadata": {},
     "output_type": "execute_result"
    }
   ],
   "source": [
    "lower_conf"
   ]
  },
  {
   "cell_type": "code",
   "execution_count": 34,
   "id": "4f67833a",
   "metadata": {},
   "outputs": [
    {
     "data": {
      "text/plain": [
       "[0.9545847256246807,\n",
       " 0.8091100428809809,\n",
       " 0.8178525158677951,\n",
       " 0.9497320781271219,\n",
       " 0.9363181477828255,\n",
       " 0.9468827940042844,\n",
       " 0.9667687917728655,\n",
       " 0.9652354196240418,\n",
       " 0.9604198351860334,\n",
       " 0.9818215479106871,\n",
       " 0.9688258704754166,\n",
       " 0.9779074159815041,\n",
       " 0.9700648382012851,\n",
       " 0.9888452688343603,\n",
       " 0.9965125533159097,\n",
       " 0.9976659777831397,\n",
       " 0.9977113466852249,\n",
       " 0.998092788904354,\n",
       " 0.9978979461062885,\n",
       " 0.9991310785813705,\n",
       " 0.9981165142945515,\n",
       " 0.9990447455737251,\n",
       " 0.9980643197008314]"
      ]
     },
     "execution_count": 34,
     "metadata": {},
     "output_type": "execute_result"
    }
   ],
   "source": [
    "upper_conf"
   ]
  },
  {
   "cell_type": "markdown",
   "id": "8902aaef",
   "metadata": {},
   "source": [
    "Visual display of LR results."
   ]
  },
  {
   "cell_type": "code",
   "execution_count": 35,
   "id": "51ab1a6a",
   "metadata": {},
   "outputs": [
    {
     "data": {
      "image/png": "[encoded data removed]",
      "text/plain": [
       "<Figure size 720x432 with 1 Axes>"
      ]
     },
     "metadata": {
      "needs_background": "light"
     },
     "output_type": "display_data"
    }
   ],
   "source": [
    "plt.figure(figsize=(10,6));\n",
    "\n",
    "# Plot training accuracies.\n",
    "plt.plot(ratios*12000, train_acc, color='red');\n",
    "plt.scatter(ratios*12000, train_acc, color='red', label='Training');\n",
    "\n",
    "# Plot test accuracies.\n",
    "plt.plot(ratios*12000, test_acc, color='blue');\n",
    "plt.scatter(ratios*12000, test_acc, color='blue', label='Test');\n",
    "\n",
    "plt.title('Training Set Size vs. Accuracy', size=18);\n",
    "plt.xlabel('Number of CRPs in Training', size=15);\n",
    "plt.ylabel('Accuracy', size=15);\n",
    "plt.legend(prop={'size': 15});"
   ]
  },
  {
   "cell_type": "code",
   "execution_count": null,
   "id": "38cec90a",
   "metadata": {},
   "outputs": [],
   "source": []
  }
 ],
 "metadata": {
  "kernelspec": {
   "display_name": "Python 3 (ipykernel)",
   "language": "python",
   "name": "python3"
  },
  "language_info": {
   "codemirror_mode": {
    "name": "ipython",
    "version": 3
   },
   "file_extension": ".py",
   "mimetype": "text/x-python",
   "name": "python",
   "nbconvert_exporter": "python",
   "pygments_lexer": "ipython3",
   "version": "3.7.4"
  }
 },
 "nbformat": 4,
 "nbformat_minor": 5
}
