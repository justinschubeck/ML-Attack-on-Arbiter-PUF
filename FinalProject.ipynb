{
 "cells": [
  {
   "cell_type": "markdown",
   "id": "2a5f99f5",
   "metadata": {},
   "source": [
    "# Machine Learning Attack on Arbiter PUF\n",
    "## Justin Schubeck, Alex Liu, Yash Bhat\n",
    "### EEE5716 - Introduction to Hardware Security and Trust: Fall 2022\n",
    "---"
   ]
  },
  {
   "cell_type": "markdown",
   "id": "3ca64fb4",
   "metadata": {},
   "source": [
    "We will first import the necessary libraries."
   ]
  },
  {
   "cell_type": "code",
   "execution_count": 1,
   "id": "a037f830",
   "metadata": {},
   "outputs": [],
   "source": [
    "import numpy as np\n",
    "import matplotlib.pyplot as plt\n",
    "import pandas as pd\n",
    "from sklearn.model_selection import train_test_split\n",
    "from sklearn.preprocessing import StandardScaler\n",
    "from sklearn.decomposition import PCA\n",
    "from sklearn.model_selection import StratifiedKFold\n",
    "from sklearn.model_selection import GridSearchCV\n",
    "from sklearn.svm import SVC\n",
    "from sklearn.linear_model import LogisticRegression\n",
    "from sklearn.metrics import accuracy_score"
   ]
  },
  {
   "cell_type": "markdown",
   "id": "9302bbcb",
   "metadata": {},
   "source": [
    "First, we will read in the data from the Excel file. "
   ]
  },
  {
   "cell_type": "code",
   "execution_count": 2,
   "id": "a689392c",
   "metadata": {},
   "outputs": [
    {
     "data": {
      "text/html": [
       "<div>\n",
       "<style scoped>\n",
       "    .dataframe tbody tr th:only-of-type {\n",
       "        vertical-align: middle;\n",
       "    }\n",
       "\n",
       "    .dataframe tbody tr th {\n",
       "        vertical-align: top;\n",
       "    }\n",
       "\n",
       "    .dataframe thead th {\n",
       "        text-align: right;\n",
       "    }\n",
       "</style>\n",
       "<table border=\"1\" class=\"dataframe\">\n",
       "  <thead>\n",
       "    <tr style=\"text-align: right;\">\n",
       "      <th></th>\n",
       "      <th>0</th>\n",
       "      <th>1</th>\n",
       "      <th>2</th>\n",
       "      <th>3</th>\n",
       "      <th>4</th>\n",
       "      <th>5</th>\n",
       "      <th>6</th>\n",
       "      <th>7</th>\n",
       "      <th>8</th>\n",
       "      <th>9</th>\n",
       "      <th>...</th>\n",
       "      <th>55</th>\n",
       "      <th>56</th>\n",
       "      <th>57</th>\n",
       "      <th>58</th>\n",
       "      <th>59</th>\n",
       "      <th>60</th>\n",
       "      <th>61</th>\n",
       "      <th>62</th>\n",
       "      <th>63</th>\n",
       "      <th>64</th>\n",
       "    </tr>\n",
       "  </thead>\n",
       "  <tbody>\n",
       "    <tr>\n",
       "      <th>0</th>\n",
       "      <td>0</td>\n",
       "      <td>0</td>\n",
       "      <td>1</td>\n",
       "      <td>1</td>\n",
       "      <td>1</td>\n",
       "      <td>0</td>\n",
       "      <td>1</td>\n",
       "      <td>0</td>\n",
       "      <td>0</td>\n",
       "      <td>1</td>\n",
       "      <td>...</td>\n",
       "      <td>1</td>\n",
       "      <td>1</td>\n",
       "      <td>0</td>\n",
       "      <td>0</td>\n",
       "      <td>0</td>\n",
       "      <td>1</td>\n",
       "      <td>0</td>\n",
       "      <td>1</td>\n",
       "      <td>1</td>\n",
       "      <td>1</td>\n",
       "    </tr>\n",
       "    <tr>\n",
       "      <th>1</th>\n",
       "      <td>1</td>\n",
       "      <td>0</td>\n",
       "      <td>1</td>\n",
       "      <td>0</td>\n",
       "      <td>1</td>\n",
       "      <td>0</td>\n",
       "      <td>0</td>\n",
       "      <td>0</td>\n",
       "      <td>1</td>\n",
       "      <td>0</td>\n",
       "      <td>...</td>\n",
       "      <td>1</td>\n",
       "      <td>1</td>\n",
       "      <td>1</td>\n",
       "      <td>0</td>\n",
       "      <td>0</td>\n",
       "      <td>0</td>\n",
       "      <td>0</td>\n",
       "      <td>0</td>\n",
       "      <td>1</td>\n",
       "      <td>0</td>\n",
       "    </tr>\n",
       "    <tr>\n",
       "      <th>2</th>\n",
       "      <td>1</td>\n",
       "      <td>1</td>\n",
       "      <td>0</td>\n",
       "      <td>1</td>\n",
       "      <td>0</td>\n",
       "      <td>1</td>\n",
       "      <td>1</td>\n",
       "      <td>0</td>\n",
       "      <td>1</td>\n",
       "      <td>0</td>\n",
       "      <td>...</td>\n",
       "      <td>1</td>\n",
       "      <td>0</td>\n",
       "      <td>1</td>\n",
       "      <td>1</td>\n",
       "      <td>1</td>\n",
       "      <td>0</td>\n",
       "      <td>0</td>\n",
       "      <td>1</td>\n",
       "      <td>0</td>\n",
       "      <td>0</td>\n",
       "    </tr>\n",
       "    <tr>\n",
       "      <th>3</th>\n",
       "      <td>0</td>\n",
       "      <td>1</td>\n",
       "      <td>0</td>\n",
       "      <td>0</td>\n",
       "      <td>0</td>\n",
       "      <td>0</td>\n",
       "      <td>1</td>\n",
       "      <td>1</td>\n",
       "      <td>0</td>\n",
       "      <td>1</td>\n",
       "      <td>...</td>\n",
       "      <td>1</td>\n",
       "      <td>1</td>\n",
       "      <td>1</td>\n",
       "      <td>1</td>\n",
       "      <td>1</td>\n",
       "      <td>0</td>\n",
       "      <td>0</td>\n",
       "      <td>1</td>\n",
       "      <td>1</td>\n",
       "      <td>0</td>\n",
       "    </tr>\n",
       "    <tr>\n",
       "      <th>4</th>\n",
       "      <td>1</td>\n",
       "      <td>1</td>\n",
       "      <td>0</td>\n",
       "      <td>0</td>\n",
       "      <td>0</td>\n",
       "      <td>1</td>\n",
       "      <td>1</td>\n",
       "      <td>1</td>\n",
       "      <td>0</td>\n",
       "      <td>1</td>\n",
       "      <td>...</td>\n",
       "      <td>0</td>\n",
       "      <td>1</td>\n",
       "      <td>0</td>\n",
       "      <td>1</td>\n",
       "      <td>1</td>\n",
       "      <td>1</td>\n",
       "      <td>1</td>\n",
       "      <td>0</td>\n",
       "      <td>0</td>\n",
       "      <td>1</td>\n",
       "    </tr>\n",
       "    <tr>\n",
       "      <th>...</th>\n",
       "      <td>...</td>\n",
       "      <td>...</td>\n",
       "      <td>...</td>\n",
       "      <td>...</td>\n",
       "      <td>...</td>\n",
       "      <td>...</td>\n",
       "      <td>...</td>\n",
       "      <td>...</td>\n",
       "      <td>...</td>\n",
       "      <td>...</td>\n",
       "      <td>...</td>\n",
       "      <td>...</td>\n",
       "      <td>...</td>\n",
       "      <td>...</td>\n",
       "      <td>...</td>\n",
       "      <td>...</td>\n",
       "      <td>...</td>\n",
       "      <td>...</td>\n",
       "      <td>...</td>\n",
       "      <td>...</td>\n",
       "      <td>...</td>\n",
       "    </tr>\n",
       "    <tr>\n",
       "      <th>11995</th>\n",
       "      <td>0</td>\n",
       "      <td>1</td>\n",
       "      <td>0</td>\n",
       "      <td>1</td>\n",
       "      <td>1</td>\n",
       "      <td>1</td>\n",
       "      <td>0</td>\n",
       "      <td>0</td>\n",
       "      <td>1</td>\n",
       "      <td>0</td>\n",
       "      <td>...</td>\n",
       "      <td>1</td>\n",
       "      <td>0</td>\n",
       "      <td>0</td>\n",
       "      <td>0</td>\n",
       "      <td>0</td>\n",
       "      <td>1</td>\n",
       "      <td>1</td>\n",
       "      <td>0</td>\n",
       "      <td>0</td>\n",
       "      <td>0</td>\n",
       "    </tr>\n",
       "    <tr>\n",
       "      <th>11996</th>\n",
       "      <td>0</td>\n",
       "      <td>1</td>\n",
       "      <td>0</td>\n",
       "      <td>0</td>\n",
       "      <td>1</td>\n",
       "      <td>1</td>\n",
       "      <td>0</td>\n",
       "      <td>1</td>\n",
       "      <td>0</td>\n",
       "      <td>1</td>\n",
       "      <td>...</td>\n",
       "      <td>1</td>\n",
       "      <td>1</td>\n",
       "      <td>1</td>\n",
       "      <td>0</td>\n",
       "      <td>0</td>\n",
       "      <td>1</td>\n",
       "      <td>0</td>\n",
       "      <td>1</td>\n",
       "      <td>0</td>\n",
       "      <td>1</td>\n",
       "    </tr>\n",
       "    <tr>\n",
       "      <th>11997</th>\n",
       "      <td>1</td>\n",
       "      <td>1</td>\n",
       "      <td>1</td>\n",
       "      <td>0</td>\n",
       "      <td>0</td>\n",
       "      <td>0</td>\n",
       "      <td>1</td>\n",
       "      <td>1</td>\n",
       "      <td>0</td>\n",
       "      <td>0</td>\n",
       "      <td>...</td>\n",
       "      <td>1</td>\n",
       "      <td>1</td>\n",
       "      <td>0</td>\n",
       "      <td>1</td>\n",
       "      <td>0</td>\n",
       "      <td>1</td>\n",
       "      <td>1</td>\n",
       "      <td>0</td>\n",
       "      <td>0</td>\n",
       "      <td>0</td>\n",
       "    </tr>\n",
       "    <tr>\n",
       "      <th>11998</th>\n",
       "      <td>0</td>\n",
       "      <td>1</td>\n",
       "      <td>0</td>\n",
       "      <td>1</td>\n",
       "      <td>1</td>\n",
       "      <td>1</td>\n",
       "      <td>1</td>\n",
       "      <td>1</td>\n",
       "      <td>1</td>\n",
       "      <td>1</td>\n",
       "      <td>...</td>\n",
       "      <td>0</td>\n",
       "      <td>0</td>\n",
       "      <td>0</td>\n",
       "      <td>0</td>\n",
       "      <td>1</td>\n",
       "      <td>0</td>\n",
       "      <td>1</td>\n",
       "      <td>0</td>\n",
       "      <td>0</td>\n",
       "      <td>1</td>\n",
       "    </tr>\n",
       "    <tr>\n",
       "      <th>11999</th>\n",
       "      <td>0</td>\n",
       "      <td>0</td>\n",
       "      <td>1</td>\n",
       "      <td>1</td>\n",
       "      <td>1</td>\n",
       "      <td>0</td>\n",
       "      <td>0</td>\n",
       "      <td>1</td>\n",
       "      <td>1</td>\n",
       "      <td>1</td>\n",
       "      <td>...</td>\n",
       "      <td>1</td>\n",
       "      <td>1</td>\n",
       "      <td>1</td>\n",
       "      <td>0</td>\n",
       "      <td>0</td>\n",
       "      <td>1</td>\n",
       "      <td>1</td>\n",
       "      <td>1</td>\n",
       "      <td>0</td>\n",
       "      <td>0</td>\n",
       "    </tr>\n",
       "  </tbody>\n",
       "</table>\n",
       "<p>12000 rows × 65 columns</p>\n",
       "</div>"
      ],
      "text/plain": [
       "       0   1   2   3   4   5   6   7   8   9   ...  55  56  57  58  59  60  \\\n",
       "0       0   0   1   1   1   0   1   0   0   1  ...   1   1   0   0   0   1   \n",
       "1       1   0   1   0   1   0   0   0   1   0  ...   1   1   1   0   0   0   \n",
       "2       1   1   0   1   0   1   1   0   1   0  ...   1   0   1   1   1   0   \n",
       "3       0   1   0   0   0   0   1   1   0   1  ...   1   1   1   1   1   0   \n",
       "4       1   1   0   0   0   1   1   1   0   1  ...   0   1   0   1   1   1   \n",
       "...    ..  ..  ..  ..  ..  ..  ..  ..  ..  ..  ...  ..  ..  ..  ..  ..  ..   \n",
       "11995   0   1   0   1   1   1   0   0   1   0  ...   1   0   0   0   0   1   \n",
       "11996   0   1   0   0   1   1   0   1   0   1  ...   1   1   1   0   0   1   \n",
       "11997   1   1   1   0   0   0   1   1   0   0  ...   1   1   0   1   0   1   \n",
       "11998   0   1   0   1   1   1   1   1   1   1  ...   0   0   0   0   1   0   \n",
       "11999   0   0   1   1   1   0   0   1   1   1  ...   1   1   1   0   0   1   \n",
       "\n",
       "       61  62  63  64  \n",
       "0       0   1   1   1  \n",
       "1       0   0   1   0  \n",
       "2       0   1   0   0  \n",
       "3       0   1   1   0  \n",
       "4       1   0   0   1  \n",
       "...    ..  ..  ..  ..  \n",
       "11995   1   0   0   0  \n",
       "11996   0   1   0   1  \n",
       "11997   1   0   0   0  \n",
       "11998   1   0   0   1  \n",
       "11999   1   1   0   0  \n",
       "\n",
       "[12000 rows x 65 columns]"
      ]
     },
     "execution_count": 2,
     "metadata": {},
     "output_type": "execute_result"
    }
   ],
   "source": [
    "df = pd.read_excel('CRPSets.xls',header=None)\n",
    "df"
   ]
  },
  {
   "cell_type": "markdown",
   "id": "e9f11bf5",
   "metadata": {},
   "source": [
    "We will now separate the 64-bit challenges from the 1 bit responses."
   ]
  },
  {
   "cell_type": "code",
   "execution_count": 24,
   "id": "8d9a5752",
   "metadata": {},
   "outputs": [],
   "source": [
    "challenges = df.to_numpy()[:,:64]\n",
    "responses = df.to_numpy()[:,64]"
   ]
  },
  {
   "cell_type": "markdown",
   "id": "9f7c17f9",
   "metadata": {},
   "source": [
    "We will now split the data into a training set and a testing set. This will ensure that the models are not overfitting, and the test set will be used to evaluate the model. "
   ]
  },
  {
   "cell_type": "markdown",
   "id": "a79e1d42",
   "metadata": {},
   "source": [
    "* X_train: challenges in training set\n",
    "* X_test: challenges in test set\n",
    "* t_train: responses for training set\n",
    "* t_test: responses for test set"
   ]
  },
  {
   "cell_type": "code",
   "execution_count": 25,
   "id": "3ec3bcbb",
   "metadata": {},
   "outputs": [],
   "source": [
    "# test_size corresponds to the proportion of the total data used for testing.\n",
    "# shuffle mixes the data before splitting.\n",
    "# random_state seeds the split to accurately compare model performances with same training data.\n",
    "X_train, X_test, t_train, t_test = train_test_split(challenges, \n",
    "                                                    responses,\n",
    "                                                    test_size=0.2,\n",
    "                                                    shuffle=True,\n",
    "                                                    random_state=37,\n",
    "                                                    stratify=responses) "
   ]
  },
  {
   "cell_type": "markdown",
   "id": "5dc50d2f",
   "metadata": {},
   "source": [
    "We will now look at the correlation between the response bit and each individual challenge bit."
   ]
  },
  {
   "cell_type": "code",
   "execution_count": 26,
   "id": "703709b6",
   "metadata": {},
   "outputs": [
    {
     "data": {
      "text/plain": [
       "64    1.000000\n",
       "63    0.104867\n",
       "4     0.014170\n",
       "30    0.013497\n",
       "26    0.013438\n",
       "        ...   \n",
       "47   -0.012789\n",
       "15   -0.013335\n",
       "2    -0.013589\n",
       "58   -0.017550\n",
       "52   -0.022467\n",
       "Name: 64, Length: 65, dtype: float64"
      ]
     },
     "execution_count": 26,
     "metadata": {},
     "output_type": "execute_result"
    }
   ],
   "source": [
    "corr_matrix = df.corr(method='pearson')\n",
    "corr_matrix[64].sort_values(ascending=False)"
   ]
  },
  {
   "cell_type": "markdown",
   "id": "e00dcf5f",
   "metadata": {},
   "source": [
    "We will now create a scaled version of the training data. "
   ]
  },
  {
   "cell_type": "code",
   "execution_count": 27,
   "id": "2efc4973",
   "metadata": {},
   "outputs": [],
   "source": [
    "scaler = StandardScaler()\n",
    "X_train_scaled = scaler.fit_transform(X_train)"
   ]
  },
  {
   "cell_type": "markdown",
   "id": "e67c9c51",
   "metadata": {},
   "source": [
    "We will now attempt to plot the data in two dimensions using PCA as dimensionality reduction technique."
   ]
  },
  {
   "cell_type": "code",
   "execution_count": 28,
   "id": "a468fbf4",
   "metadata": {},
   "outputs": [
    {
     "data": {
      "image/png": "[encoded data removed]",
      "text/plain": [
       "<Figure size 432x288 with 1 Axes>"
      ]
     },
     "metadata": {
      "needs_background": "light"
     },
     "output_type": "display_data"
    }
   ],
   "source": [
    "pca = PCA(n_components=2)\n",
    "X_train_pca = pca.fit_transform(X_train_scaled)\n",
    "plt.scatter(X_train_pca[:,0], X_train_pca[:,1], c=t_train, alpha=0.5);"
   ]
  },
  {
   "cell_type": "markdown",
   "id": "426eccb3",
   "metadata": {},
   "source": [
    "This data cannot be separated if we reduce to 2 dimensions because the explained variance of 2 principle components is only ~3.5%."
   ]
  },
  {
   "cell_type": "code",
   "execution_count": 29,
   "id": "159a1378",
   "metadata": {},
   "outputs": [
    {
     "data": {
      "text/plain": [
       "array([0.01751813, 0.01744941])"
      ]
     },
     "execution_count": 29,
     "metadata": {},
     "output_type": "execute_result"
    }
   ],
   "source": [
    "pca.explained_variance_ratio_"
   ]
  },
  {
   "cell_type": "markdown",
   "id": "25377925",
   "metadata": {},
   "source": [
    "---\n",
    "# 1. Support Vector Machine"
   ]
  },
  {
   "cell_type": "markdown",
   "id": "ed0b6151",
   "metadata": {},
   "source": [
    "## Training"
   ]
  },
  {
   "cell_type": "markdown",
   "id": "1246129d",
   "metadata": {},
   "source": [
    "We will uncorrelate the data using PCA, but not reduce any dimensions."
   ]
  },
  {
   "cell_type": "code",
   "execution_count": 44,
   "id": "10c40cd3",
   "metadata": {},
   "outputs": [],
   "source": [
    "pca = PCA(n_components=64)\n",
    "X_train_pca = pca.fit_transform(X_train_scaled)"
   ]
  },
  {
   "cell_type": "markdown",
   "id": "493f34f1",
   "metadata": {},
   "source": [
    "* param_grid defines all the hypeparameter values of the Support Vector Classifier that we want to try out to see which combination produces the best accuracy.\n",
    "* cv performs cross validation on the training set, which will evaluate the success of the model with each combination of hyperparameters to ensure the metric is generalizable.\n",
    "* scoring metric will be accuracy since the problem is a binary classification."
   ]
  },
  {
   "cell_type": "code",
   "execution_count": 45,
   "id": "f6881267",
   "metadata": {},
   "outputs": [
    {
     "name": "stdout",
     "output_type": "stream",
     "text": [
      "Fitting 4 folds for each of 18 candidates, totalling 72 fits\n",
      "The SVM accuracy in training is:  0.7579166666666667\n",
      "Wall time: 2min 54s\n"
     ]
    }
   ],
   "source": [
    "%%time\n",
    "# note how long it takes to do the grid_search training\n",
    "\n",
    "# define hyperparameter values to test\n",
    "# C: regularization parameter allowing more or less points in margin\n",
    "# gamma: coefficient for rbf kernel\n",
    "# class_weight: balanced adjusts weights of C using response bit frequencies\n",
    "param_grid = {'C':[0.001, 0.005, 0.01, 0.05, 0.1, 0.25, 0.5, 0.75, 1, 2, 3, 4, 5, 6, 7, 8, 9, 10, 25, 50, 75, 100],\n",
    "              'gamma':[0.001, 0.005, 0.01, 0.05, 0.1, 0.25, 0.5, 0.75, 1, 2, 3, 4, 5, 6, 7, 8, 9, 10, 25, 50, 75, 100, 'scale','auto'],\n",
    "              'class_weight':['balanced', None],\n",
    "              'shrinking':[True, False]}\n",
    "\n",
    "# define gridsearch to evaluate combinations\n",
    "cv = StratifiedKFold(n_splits=4, \n",
    "                     shuffle=True,\n",
    "                     random_state=5)\n",
    "grid_search = GridSearchCV(SVC(), \n",
    "                           param_grid=param_grid,\n",
    "                           cv=cv,\n",
    "                           scoring='accuracy',\n",
    "                           refit=True,\n",
    "                           verbose=1,\n",
    "                           n_jobs=-1)\n",
    "\n",
    "# train and evaluate all model combinations\n",
    "grid_search.fit(X_train_pca, t_train);\n",
    "\n",
    "# predict the training set response bits using the best training model\n",
    "y_train = grid_search.best_estimator_.predict(X_train_pca)\n",
    "\n",
    "# evaluate the best model's results\n",
    "print('The SVM accuracy in training is: ',accuracy_score(t_train, y_train))"
   ]
  },
  {
   "cell_type": "code",
   "execution_count": 46,
   "id": "504b8d90",
   "metadata": {},
   "outputs": [
    {
     "name": "stdout",
     "output_type": "stream",
     "text": [
      "The best parameters of the SVM model are:  {'C': 0.75, 'gamma': 'scale'}\n"
     ]
    }
   ],
   "source": [
    "# display the best hyperparameter values for training\n",
    "print('The best parameters of the SVM model are: ',grid_search.best_params_)"
   ]
  },
  {
   "cell_type": "markdown",
   "id": "204d4ca3",
   "metadata": {},
   "source": [
    "## Test"
   ]
  },
  {
   "cell_type": "code",
   "execution_count": 47,
   "id": "bdb95939",
   "metadata": {},
   "outputs": [],
   "source": [
    "# predict the test set response bits using the best training model\n",
    "y_test = grid_search.best_estimator_.predict(X_test)"
   ]
  },
  {
   "cell_type": "code",
   "execution_count": 48,
   "id": "47315841",
   "metadata": {},
   "outputs": [
    {
     "name": "stdout",
     "output_type": "stream",
     "text": [
      "The SVM accuracy in test is:  0.5083333333333333\n"
     ]
    }
   ],
   "source": [
    "# evaluate the best model's results\n",
    "print('The SVM accuracy in test is: ',accuracy_score(t_test, y_test))"
   ]
  },
  {
   "cell_type": "markdown",
   "id": "77cf890a",
   "metadata": {},
   "source": [
    "---\n",
    "# 2. Logistic Regression"
   ]
  },
  {
   "cell_type": "markdown",
   "id": "e276a248",
   "metadata": {},
   "source": [
    "## Training"
   ]
  },
  {
   "cell_type": "code",
   "execution_count": 33,
   "id": "cefa32c1",
   "metadata": {},
   "outputs": [],
   "source": [
    "pca = PCA(n_components=64)\n",
    "X_train_pca = pca.fit_transform(X_train_scaled)"
   ]
  },
  {
   "cell_type": "markdown",
   "id": "3b2c33cd",
   "metadata": {},
   "source": [
    "* param_grid defines all the hypeparameter values of the Support Vector Classifier that we want to try out to see which combination produces the best accuracy.\n",
    "* cv performs cross validation on the training set, which will evaluate the success of the model with each combination of hyperparameters to ensure the metric is generalizable.\n",
    "* scoring metric will be accuracy since the problem is a binary classification."
   ]
  },
  {
   "cell_type": "code",
   "execution_count": 34,
   "id": "40eb21c1",
   "metadata": {},
   "outputs": [
    {
     "name": "stdout",
     "output_type": "stream",
     "text": [
      "Fitting 4 folds for each of 400 candidates, totalling 1600 fits\n",
      "The Logistic Regression accuracy in training is:  0.5689583333333333\n",
      "Wall time: 16min 41s\n"
     ]
    }
   ],
   "source": [
    "%%time\n",
    "\n",
    "# define hyperparameter values to test\n",
    "# C: regularization parameter allowing more or less points in margin\n",
    "# gamma: coefficient for rbf kernel\n",
    "# class_weight: balanced adjusts weights of C using response bit frequencies\n",
    "param_grid = {'penalty': ['l2', 'none'],\n",
    "              'C':[0.0005, 0.001, 0.005, 0.01, 0.05, 0.1, 0.25, 0.5, 0.75, 1, 2, 3, 4, 5, 6, 7, 8, 9, 10, 25, 50, 75, 100, 110, 125],\n",
    "              'class_weight':['balanced', None],\n",
    "              'solver':['newton-cg', 'lbfgs', 'sag', 'saga'],\n",
    "              'max_iter': [1000]}\n",
    "\n",
    "# define gridsearch to evaluate combinations\n",
    "cv = StratifiedKFold(n_splits=4, \n",
    "                     shuffle=True,\n",
    "                     random_state=5)\n",
    "grid_search = GridSearchCV(LogisticRegression(), \n",
    "                           param_grid=param_grid,\n",
    "                           cv=cv,\n",
    "                           scoring='accuracy',\n",
    "                           refit=True,\n",
    "                           verbose=10,\n",
    "                           n_jobs=2)\n",
    "\n",
    "# train and evaluate all model combinations\n",
    "grid_search.fit(X_train_pca, t_train);\n",
    "\n",
    "# predict the training set response bits using the best training model\n",
    "y_train = grid_search.best_estimator_.predict(X_train_pca)\n",
    "\n",
    "# evaluate the best model's results\n",
    "print('The Logistic Regression accuracy in training is: ', accuracy_score(t_train, y_train))"
   ]
  },
  {
   "cell_type": "code",
   "execution_count": 35,
   "id": "e3821b40",
   "metadata": {},
   "outputs": [
    {
     "name": "stdout",
     "output_type": "stream",
     "text": [
      "The best parameters of the Logistic Regression model are:  {'C': 0.05, 'class_weight': None, 'max_iter': 1000, 'penalty': 'l2', 'solver': 'newton-cg'}\n"
     ]
    }
   ],
   "source": [
    "# display the best hyperparameter values for training\n",
    "print('The best parameters of the Logistic Regression model are: ',grid_search.best_params_)"
   ]
  },
  {
   "cell_type": "markdown",
   "id": "ffb59e6a",
   "metadata": {},
   "source": [
    "## Test"
   ]
  },
  {
   "cell_type": "code",
   "execution_count": 36,
   "id": "2e2f26a5",
   "metadata": {},
   "outputs": [],
   "source": [
    "# predict the test set response bits using the best training model\n",
    "y_test = grid_search.best_estimator_.predict(X_test)"
   ]
  },
  {
   "cell_type": "code",
   "execution_count": 37,
   "id": "f56893e1",
   "metadata": {},
   "outputs": [
    {
     "name": "stdout",
     "output_type": "stream",
     "text": [
      "The Logistic Regression accuracy in test is:  0.5320833333333334\n"
     ]
    }
   ],
   "source": [
    "# evaluate the best model's results\n",
    "print('The Logistic Regression accuracy in test is: ', accuracy_score(t_test, y_test))"
   ]
  },
  {
   "cell_type": "code",
   "execution_count": null,
   "id": "c2e6313e",
   "metadata": {},
   "outputs": [],
   "source": []
  }
 ],
 "metadata": {
  "kernelspec": {
   "display_name": "Python 3 (ipykernel)",
   "language": "python",
   "name": "python3"
  },
  "language_info": {
   "codemirror_mode": {
    "name": "ipython",
    "version": 3
   },
   "file_extension": ".py",
   "mimetype": "text/x-python",
   "name": "python",
   "nbconvert_exporter": "python",
   "pygments_lexer": "ipython3",
   "version": "3.9.7"
  }
 },
 "nbformat": 4,
 "nbformat_minor": 5
}
